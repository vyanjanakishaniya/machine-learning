{
 "cells": [
  {
   "cell_type": "markdown",
   "id": "43a08475",
   "metadata": {},
   "source": [
    "## Programming Assignment 1\n",
    "#### Machine Learning (CSCI-4930/5930)"
   ]
  },
  {
   "cell_type": "code",
   "execution_count": 1,
   "id": "b2aca17a",
   "metadata": {},
   "outputs": [],
   "source": [
    "# Import libraries\n",
    "import pandas as pd"
   ]
  },
  {
   "cell_type": "code",
   "execution_count": 2,
   "id": "965be241",
   "metadata": {},
   "outputs": [],
   "source": [
    "# First load the dataset into pandas dataframe\n",
    "training = pd.read_csv('dataset/training.csv',header=None,delimiter=',')\n",
    "validation = pd.read_csv('dataset/validation.csv',header=None,delimiter=',')"
   ]
  },
  {
   "cell_type": "code",
   "execution_count": 3,
   "id": "c5408ec1",
   "metadata": {},
   "outputs": [
    {
     "data": {
      "text/html": [
       "<div>\n",
       "<style scoped>\n",
       "    .dataframe tbody tr th:only-of-type {\n",
       "        vertical-align: middle;\n",
       "    }\n",
       "\n",
       "    .dataframe tbody tr th {\n",
       "        vertical-align: top;\n",
       "    }\n",
       "\n",
       "    .dataframe thead th {\n",
       "        text-align: right;\n",
       "    }\n",
       "</style>\n",
       "<table border=\"1\" class=\"dataframe\">\n",
       "  <thead>\n",
       "    <tr style=\"text-align: right;\">\n",
       "      <th></th>\n",
       "      <th>0</th>\n",
       "      <th>1</th>\n",
       "      <th>2</th>\n",
       "      <th>3</th>\n",
       "      <th>4</th>\n",
       "      <th>5</th>\n",
       "      <th>6</th>\n",
       "      <th>7</th>\n",
       "      <th>8</th>\n",
       "    </tr>\n",
       "  </thead>\n",
       "  <tbody>\n",
       "    <tr>\n",
       "      <th>0</th>\n",
       "      <td>-315</td>\n",
       "      <td>75</td>\n",
       "      <td>0.205128</td>\n",
       "      <td>0.230769</td>\n",
       "      <td>0.307692</td>\n",
       "      <td>0.146667</td>\n",
       "      <td>0.280000</td>\n",
       "      <td>0.240000</td>\n",
       "      <td>0</td>\n",
       "    </tr>\n",
       "    <tr>\n",
       "      <th>1</th>\n",
       "      <td>-243</td>\n",
       "      <td>75</td>\n",
       "      <td>0.213333</td>\n",
       "      <td>0.186667</td>\n",
       "      <td>0.293333</td>\n",
       "      <td>0.400000</td>\n",
       "      <td>0.253333</td>\n",
       "      <td>0.186667</td>\n",
       "      <td>0</td>\n",
       "    </tr>\n",
       "    <tr>\n",
       "      <th>2</th>\n",
       "      <td>-289</td>\n",
       "      <td>77</td>\n",
       "      <td>0.192308</td>\n",
       "      <td>0.230769</td>\n",
       "      <td>0.282051</td>\n",
       "      <td>0.220779</td>\n",
       "      <td>0.220779</td>\n",
       "      <td>0.272727</td>\n",
       "      <td>0</td>\n",
       "    </tr>\n",
       "    <tr>\n",
       "      <th>3</th>\n",
       "      <td>-776</td>\n",
       "      <td>118</td>\n",
       "      <td>0.271186</td>\n",
       "      <td>0.203390</td>\n",
       "      <td>0.271186</td>\n",
       "      <td>0.200000</td>\n",
       "      <td>0.200000</td>\n",
       "      <td>0.291667</td>\n",
       "      <td>1</td>\n",
       "    </tr>\n",
       "    <tr>\n",
       "      <th>4</th>\n",
       "      <td>-388</td>\n",
       "      <td>77</td>\n",
       "      <td>0.226190</td>\n",
       "      <td>0.238095</td>\n",
       "      <td>0.250000</td>\n",
       "      <td>0.272727</td>\n",
       "      <td>0.272727</td>\n",
       "      <td>0.207792</td>\n",
       "      <td>1</td>\n",
       "    </tr>\n",
       "  </tbody>\n",
       "</table>\n",
       "</div>"
      ],
      "text/plain": [
       "     0    1         2         3         4         5         6         7  8\n",
       "0 -315   75  0.205128  0.230769  0.307692  0.146667  0.280000  0.240000  0\n",
       "1 -243   75  0.213333  0.186667  0.293333  0.400000  0.253333  0.186667  0\n",
       "2 -289   77  0.192308  0.230769  0.282051  0.220779  0.220779  0.272727  0\n",
       "3 -776  118  0.271186  0.203390  0.271186  0.200000  0.200000  0.291667  1\n",
       "4 -388   77  0.226190  0.238095  0.250000  0.272727  0.272727  0.207792  1"
      ]
     },
     "execution_count": 3,
     "metadata": {},
     "output_type": "execute_result"
    }
   ],
   "source": [
    "validation.head()"
   ]
  },
  {
   "cell_type": "markdown",
   "id": "e3d286b5",
   "metadata": {},
   "source": [
    "## Task : A\n",
    "Print total number of samples in the validation dataset: \"dataset/validation.csv\""
   ]
  },
  {
   "cell_type": "code",
   "execution_count": 4,
   "id": "9f3220d2",
   "metadata": {},
   "outputs": [
    {
     "data": {
      "text/plain": [
       "60000"
      ]
     },
     "execution_count": 4,
     "metadata": {},
     "output_type": "execute_result"
    }
   ],
   "source": [
    "validation.shape[0]"
   ]
  },
  {
   "cell_type": "code",
   "execution_count": null,
   "id": "a3a71fe7",
   "metadata": {},
   "outputs": [],
   "source": []
  },
  {
   "cell_type": "markdown",
   "id": "238ab297",
   "metadata": {},
   "source": [
    "## Task : B\n",
    "Print two numbers in the format: [n0, n1], where\n",
    "n0 represents number of class=0 (negative) samples and n1 represents number of class=1 (positive) samples in the validation dataset: \"dataset/validation.csv\"\n"
   ]
  },
  {
   "cell_type": "code",
   "execution_count": 5,
   "id": "e6dabf09",
   "metadata": {},
   "outputs": [
    {
     "data": {
      "text/html": [
       "<div>\n",
       "<style scoped>\n",
       "    .dataframe tbody tr th:only-of-type {\n",
       "        vertical-align: middle;\n",
       "    }\n",
       "\n",
       "    .dataframe tbody tr th {\n",
       "        vertical-align: top;\n",
       "    }\n",
       "\n",
       "    .dataframe thead th {\n",
       "        text-align: right;\n",
       "    }\n",
       "</style>\n",
       "<table border=\"1\" class=\"dataframe\">\n",
       "  <thead>\n",
       "    <tr style=\"text-align: right;\">\n",
       "      <th></th>\n",
       "      <th>0</th>\n",
       "      <th>1</th>\n",
       "    </tr>\n",
       "  </thead>\n",
       "  <tbody>\n",
       "    <tr>\n",
       "      <th>0</th>\n",
       "      <td>-315</td>\n",
       "      <td>75</td>\n",
       "    </tr>\n",
       "    <tr>\n",
       "      <th>1</th>\n",
       "      <td>-243</td>\n",
       "      <td>75</td>\n",
       "    </tr>\n",
       "    <tr>\n",
       "      <th>2</th>\n",
       "      <td>-289</td>\n",
       "      <td>77</td>\n",
       "    </tr>\n",
       "    <tr>\n",
       "      <th>3</th>\n",
       "      <td>-776</td>\n",
       "      <td>118</td>\n",
       "    </tr>\n",
       "    <tr>\n",
       "      <th>4</th>\n",
       "      <td>-388</td>\n",
       "      <td>77</td>\n",
       "    </tr>\n",
       "    <tr>\n",
       "      <th>...</th>\n",
       "      <td>...</td>\n",
       "      <td>...</td>\n",
       "    </tr>\n",
       "    <tr>\n",
       "      <th>59995</th>\n",
       "      <td>-707</td>\n",
       "      <td>120</td>\n",
       "    </tr>\n",
       "    <tr>\n",
       "      <th>59996</th>\n",
       "      <td>-404</td>\n",
       "      <td>117</td>\n",
       "    </tr>\n",
       "    <tr>\n",
       "      <th>59997</th>\n",
       "      <td>-847</td>\n",
       "      <td>120</td>\n",
       "    </tr>\n",
       "    <tr>\n",
       "      <th>59998</th>\n",
       "      <td>-201</td>\n",
       "      <td>75</td>\n",
       "    </tr>\n",
       "    <tr>\n",
       "      <th>59999</th>\n",
       "      <td>-770</td>\n",
       "      <td>120</td>\n",
       "    </tr>\n",
       "  </tbody>\n",
       "</table>\n",
       "<p>60000 rows × 2 columns</p>\n",
       "</div>"
      ],
      "text/plain": [
       "         0    1\n",
       "0     -315   75\n",
       "1     -243   75\n",
       "2     -289   77\n",
       "3     -776  118\n",
       "4     -388   77\n",
       "...    ...  ...\n",
       "59995 -707  120\n",
       "59996 -404  117\n",
       "59997 -847  120\n",
       "59998 -201   75\n",
       "59999 -770  120\n",
       "\n",
       "[60000 rows x 2 columns]"
      ]
     },
     "execution_count": 5,
     "metadata": {},
     "output_type": "execute_result"
    }
   ],
   "source": [
    "validation.iloc[:,0:2]"
   ]
  },
  {
   "cell_type": "code",
   "execution_count": null,
   "id": "c860624a",
   "metadata": {},
   "outputs": [],
   "source": []
  },
  {
   "cell_type": "markdown",
   "id": "27e9d539",
   "metadata": {},
   "source": [
    "## Task : C\n",
    "Print standard deviation of the second feature: \"The length of shorter sequence\" of the validation dataset: \"dataset/validation.csv\""
   ]
  },
  {
   "cell_type": "code",
   "execution_count": 6,
   "id": "aea36c91",
   "metadata": {},
   "outputs": [
    {
     "data": {
      "text/plain": [
       "21.278652371559346"
      ]
     },
     "execution_count": 6,
     "metadata": {},
     "output_type": "execute_result"
    }
   ],
   "source": [
    "(validation.std())[1]"
   ]
  },
  {
   "cell_type": "code",
   "execution_count": null,
   "id": "8d0876ea",
   "metadata": {},
   "outputs": [],
   "source": []
  },
  {
   "cell_type": "markdown",
   "id": "25100733",
   "metadata": {},
   "source": [
    "## Task : D\n",
    "Print median (i.e., 50% percentile) of the seventh feature: \"'U' frequencies of sequence 2\" of the validation dataset: \"dataset/validation.csv\""
   ]
  },
  {
   "cell_type": "code",
   "execution_count": 7,
   "id": "6f148e0a",
   "metadata": {},
   "outputs": [
    {
     "data": {
      "text/plain": [
       "0.2203389999999999"
      ]
     },
     "execution_count": 7,
     "metadata": {},
     "output_type": "execute_result"
    }
   ],
   "source": [
    "(validation.median())[6]"
   ]
  },
  {
   "cell_type": "code",
   "execution_count": null,
   "id": "184f330d",
   "metadata": {},
   "outputs": [],
   "source": []
  },
  {
   "cell_type": "markdown",
   "id": "b3ca953f",
   "metadata": {},
   "source": [
    "## Task : E\n",
    "Complete the function \"confusion_matrix\" partially defined that takes two arrays of target variable \"y\": y_actual and y_pred denoting ground truth class labels and predicted class labels for the N samples when N is the length of both the arrays. The function should return a list of 4 metrics: TN, FP, FN, TP (in this order)."
   ]
  },
  {
   "cell_type": "code",
   "execution_count": 8,
   "id": "fe603a00",
   "metadata": {},
   "outputs": [],
   "source": [
    "def confusion_matrix(y_actual, y_pred):\n",
    "    # the function takes two arrays of target variable \"y\": y_actual and y_pred\n",
    "    #    denoting ground truth class labels and predicted class labels for the N samples\n",
    "    #    when N is the length of both the arrays.\n",
    "    # The function should return a list of 4 metrics: TN, FP, FN, TP (in this order).\n",
    "    assert(len(y_actual)==len(y_pred))\n",
    "    \n",
    "    TP = 0\n",
    "    FP = 0\n",
    "    TN = 0\n",
    "    FN = 0\n",
    "    \n",
    "    data = {'y_Actual': y_actual,   # [1, 0, 0, 1, 0, 1, 0, 0, 1, 0, 1, 0],\n",
    "        'y_Predicted': y_pred # [1, 1, 0, 1, 0, 1, 1, 0, 1, 0, 0, 0]\n",
    "        }\n",
    "    \n",
    "    df = pd.DataFrame(data, columns=['y_Actual','y_Predicted'])\n",
    "    #print (df)\n",
    "    \n",
    "    confusion_matrix = pd.crosstab(df['y_Actual'], df['y_Predicted'], rownames=['Actual'], colnames=['Predicted'])\n",
    "    #print (confusion_matrix)\n",
    "    \n",
    "    for i in range(len(y_pred)): \n",
    "        if y_actual[i]==y_pred[i]==1:\n",
    "           TP += 1\n",
    "        if y_pred[i]==1 and y_actual[i]!=y_pred[i]:\n",
    "           FP += 1\n",
    "        if y_actual[i]==y_pred[i]==0:\n",
    "           TN += 1\n",
    "        if y_pred[i]==0 and y_actual[i]!=y_pred[i]:\n",
    "           FN += 1\n",
    "\n",
    "    return [TN,FP, FN, TP]"
   ]
  },
  {
   "cell_type": "code",
   "execution_count": 9,
   "id": "68881de0",
   "metadata": {},
   "outputs": [
    {
     "name": "stdout",
     "output_type": "stream",
     "text": [
      "[1, 0, 1, 2]\n"
     ]
    }
   ],
   "source": [
    "print(confusion_matrix([1, 0, 1, 1], [0, 0, 1, 1])) #Expected to print: [1, 0, 1, 2]"
   ]
  },
  {
   "cell_type": "markdown",
   "id": "09c4a133",
   "metadata": {},
   "source": [
    "## Task : F\n",
    "You need to complete the accuracy function partially defined in the file that takes a confusion matrix, i.e. the list of the four metrics: [TN, FP, FN, TP], in this order, and return accuracy. In case of Division by Zero error, return -1."
   ]
  },
  {
   "cell_type": "code",
   "execution_count": 10,
   "id": "1524c6bb",
   "metadata": {},
   "outputs": [],
   "source": [
    "def accuracy(conf_mat):\n",
    "    # Given a confusion matrix, i.e. the list of four metrics: [TN,FP, FN, TP], in this order\n",
    "    # return accuracy\n",
    "    [TN, FP, FN, TP] = conf_mat\n",
    "    \n",
    "    acc_value = 0\n",
    "    \n",
    "    if (TN+TP+FP+FN) == 0:\n",
    "        acc_value = -1\n",
    "    else:\n",
    "        acc_value = (TN+TP)/(TN+TP+FP+FN)\n",
    "    \n",
    "    \n",
    "    \n",
    "    \n",
    "    return acc_value"
   ]
  },
  {
   "cell_type": "code",
   "execution_count": 11,
   "id": "610b9b52",
   "metadata": {},
   "outputs": [
    {
     "name": "stdout",
     "output_type": "stream",
     "text": [
      "0.75\n"
     ]
    }
   ],
   "source": [
    "conf_mat = confusion_matrix([1, 0, 1, 1], [0, 0, 1, 1])  #Expected to print 0.75\n",
    "print(accuracy(conf_mat))"
   ]
  },
  {
   "cell_type": "markdown",
   "id": "b2aa78b6",
   "metadata": {},
   "source": [
    "## Task : G\n",
    "You need to complete the precision function partially defined in the file that takes a confusion matrix, i.e. the list of the four metrics: [TN, FP, FN, TP], in this order, and return precision. It is also known as Positive Predictive Value (PPV). In case of Division by Zero error, return -1."
   ]
  },
  {
   "cell_type": "code",
   "execution_count": 12,
   "id": "c6eb55f6",
   "metadata": {},
   "outputs": [],
   "source": [
    "def precision(conf_mat):\n",
    "    # Given a confusion matrix, i.e. the list of four metrics: [TN,FP, FN, TP], in this order\n",
    "    # return precision. It is also known as Positive Predictive Value (PPV)\n",
    "    [TN, FP, FN, TP] = conf_mat\n",
    "    prec_value = 0\n",
    "    # TP = 1\n",
    "    # FP = -1\n",
    "    \n",
    "    if TP+FP == 0:\n",
    "        prec_value = -1\n",
    "    else:\n",
    "        prec_value = TP/(TP+FP)\n",
    "    \n",
    "    return prec_value"
   ]
  },
  {
   "cell_type": "code",
   "execution_count": 13,
   "id": "34c02590",
   "metadata": {},
   "outputs": [
    {
     "name": "stdout",
     "output_type": "stream",
     "text": [
      "1.0\n"
     ]
    }
   ],
   "source": [
    "conf_mat = confusion_matrix([1, 0, 1, 1], [0, 0, 1, 1])  #Expected to print 1.0\n",
    "print(precision(conf_mat))"
   ]
  },
  {
   "cell_type": "markdown",
   "id": "e90ba6fe",
   "metadata": {},
   "source": [
    "## Task : H\n",
    "You need to complete the recall function partially defined in the file that takes a confusion matrix, i.e. the list of the four metrics: [TN, FP, FN, TP], in this order, and return recall. It is also known as Sensitivity, or True Positive Rate (TPR). In case of Division by Zero error, return -1."
   ]
  },
  {
   "cell_type": "code",
   "execution_count": 14,
   "id": "501cd309",
   "metadata": {},
   "outputs": [],
   "source": [
    "def recall(conf_mat):\n",
    "    # Given a confusion matrix, i.e. the list of four metrics: [TN,FP, FN, TP], in this order\n",
    "    # return recall. It is also known as Sensitivity, or True Positive Rate (TPR)\n",
    "    [TN, FP, FN, TP] = conf_mat\n",
    "    rec_value = 0\n",
    "    \n",
    "    #@TODO\n",
    "    \n",
    "    if TP+FN == 0:\n",
    "        rec_value = -1\n",
    "    else:\n",
    "        rec_value = TP/(TP+FN)\n",
    "    \n",
    "    return rec_value"
   ]
  },
  {
   "cell_type": "code",
   "execution_count": 15,
   "id": "b29ef9b8",
   "metadata": {},
   "outputs": [
    {
     "name": "stdout",
     "output_type": "stream",
     "text": [
      "0.6666666666666666\n"
     ]
    }
   ],
   "source": [
    "conf_mat = confusion_matrix([1, 0, 1, 1], [0, 0, 1, 1])  #Expected to print 0.6666666666\n",
    "print(recall(conf_mat))"
   ]
  },
  {
   "cell_type": "markdown",
   "id": "91f6c9a3",
   "metadata": {},
   "source": [
    "## Task : I\n",
    "You need to complete the F1 function partially defined in the file that takes a confusion matrix, i.e. the list of the four metrics: [TN, FP, FN, TP], in this order, and return F1. It is the harmonic mean of precision and recall. In case of Division by Zero error, return -1."
   ]
  },
  {
   "cell_type": "code",
   "execution_count": 16,
   "id": "cab4cd5e",
   "metadata": {},
   "outputs": [],
   "source": [
    "def F1(conf_mat):\n",
    "    # Given a confusion matrix, i.e. the list of four metrics: [TN,FP, FN, TP], in this order\n",
    "    # return F1 score. It is the harmonic mean of precision and recall\n",
    "    [TN, FP, FN, TP] = conf_mat\n",
    "    f1_value = 0\n",
    "    \n",
    "    #@TODO\n",
    "    \n",
    "    prec_value = 0\n",
    "    rec_value = 0\n",
    "    \n",
    "    if TP+FP == 0:\n",
    "        prec_value = -1\n",
    "    else:\n",
    "        prec_value = TP/(TP+FP)\n",
    "    \n",
    "    if TP+FN == 0:\n",
    "        rec_value = -1\n",
    "    else:\n",
    "        rec_value = TP/(TP+FN)\n",
    "        \n",
    "    f1_value = 2/((1/prec_value)+(1/rec_value))\n",
    "    \n",
    "    return f1_value"
   ]
  },
  {
   "cell_type": "code",
   "execution_count": 17,
   "id": "fcc93aab",
   "metadata": {},
   "outputs": [
    {
     "name": "stdout",
     "output_type": "stream",
     "text": [
      "0.8\n"
     ]
    }
   ],
   "source": [
    "conf_mat = confusion_matrix([1, 0, 1, 1], [0, 0, 1, 1]) #Expected to print 0.8\n",
    "print(F1(conf_mat))"
   ]
  },
  {
   "cell_type": "markdown",
   "id": "2128d772",
   "metadata": {},
   "source": [
    "## Task : J\n",
    "You need to complete the MCC function defined in the file that takes a confusion matrix, i.e. the list of the four metrics: [TN, FP, FN, TP], in this order, and return Matthews Correlation Coefficient (MCC). In case of Division by Zero error, return -1."
   ]
  },
  {
   "cell_type": "code",
   "execution_count": 18,
   "id": "01ca3913",
   "metadata": {},
   "outputs": [],
   "source": [
    "import math\n",
    "def MCC(conf_mat):\n",
    "    # Given a confusion matrix, i.e. the list of four metrics: [TN,FP, FN, TP], in this order\n",
    "    # return Matthews correlation coefficient (MCC)\n",
    "    [TN, FP, FN, TP] = conf_mat\n",
    "    mcc_value = 0\n",
    "    \n",
    "    #@TODO\n",
    "    \n",
    "    mcc_value = ((TP*TN) - (FP*FN))/math.sqrt((TP+FP)*(TP+FN)*(TN+FP)*(TN+FN))\n",
    "    \n",
    "    \n",
    "    return mcc_value"
   ]
  },
  {
   "cell_type": "code",
   "execution_count": 19,
   "id": "6b8284c2",
   "metadata": {},
   "outputs": [
    {
     "name": "stdout",
     "output_type": "stream",
     "text": [
      "0.5773502691896258\n"
     ]
    }
   ],
   "source": [
    "conf_mat = confusion_matrix([1, 0, 1, 1], [0, 0, 1, 1]) #Expected to print 0.5773502691896258\n",
    "print(MCC(conf_mat))"
   ]
  },
  {
   "cell_type": "markdown",
   "id": "be81ef54",
   "metadata": {},
   "source": [
    "## Task : K\n",
    "You need to complete the FDR function defined in the file that takes a confusion matrix, i.e. the list of the four metrics: [TN, FP, FN, TP], in this order, and return False Discovery Rate (FDR). In case of Division by Zero error, return -1"
   ]
  },
  {
   "cell_type": "code",
   "execution_count": 20,
   "id": "15bf9850",
   "metadata": {},
   "outputs": [],
   "source": [
    "def FDR(conf_mat):\n",
    "    # Given a confusion matrix, i.e. the list of four metrics: [TN,FP, FN, TP], in this order\n",
    "    # return False Discovery Rate (FDR)\n",
    "    [TN, FP, FN, TP] = conf_mat\n",
    "    fdr_value = 0\n",
    "    \n",
    "    fdr_value = FP/(FP+TP)\n",
    "    \n",
    "    \n",
    "    return fdr_value"
   ]
  },
  {
   "cell_type": "code",
   "execution_count": 21,
   "id": "dffbe6d1",
   "metadata": {},
   "outputs": [
    {
     "name": "stdout",
     "output_type": "stream",
     "text": [
      "0.0\n"
     ]
    }
   ],
   "source": [
    "conf_mat = confusion_matrix([1, 0, 1, 1], [0, 0, 1, 1]) #Expected to print 0.0\n",
    "print(FDR(conf_mat))"
   ]
  },
  {
   "cell_type": "markdown",
   "id": "9614d2f8",
   "metadata": {},
   "source": [
    "## Task : L\n",
    "Print as a dataframe containing:\n",
    " {model_name,acc,prec,rec,f1,mcc,FDR} for each of the N models (listed in models/*) after predicting the target variables of the validation data: \"dataset/validation.csv\"\n"
   ]
  },
  {
   "cell_type": "code",
   "execution_count": 22,
   "id": "f655001d",
   "metadata": {},
   "outputs": [
    {
     "name": "stderr",
     "output_type": "stream",
     "text": [
      "100%|████████████████████████████████████████████████████████████████████████████████████| 6/6 [02:10<00:00, 21.81s/it]\n"
     ]
    }
   ],
   "source": [
    "#Print as a dataframe containing:\n",
    "# {model_name,acc,prec,rec,f1,mcc,FDR} for each of the N models (listed in model_files) predicting the target variables\n",
    "#  of the validation data.\n",
    "import pickle\n",
    "import numpy as np\n",
    "import pandas as pd\n",
    "import sys\n",
    "import os\n",
    "import math\n",
    "from tqdm import tqdm\n",
    "from sklearn.linear_model import LogisticRegression\n",
    "from sklearn.neural_network import MLPClassifier\n",
    "from sklearn import tree\n",
    "from sklearn.svm import SVC\n",
    "from sklearn.neighbors import KNeighborsClassifier\n",
    "result = pd.DataFrame(columns=['model_name','Accuracy','Precision','Recall','F1','MCC','FDR'])\n",
    "\n",
    "model_files=[\"models/Model_1.pkl\",\"models/Model_2.pkl\",\"models/Model_3.pkl\",\\\n",
    "                            \"models/Model_4.pkl\",\"models/Model_5.pkl\",\"models/Model_6.pkl\"]\n",
    "\n",
    "for file_name in tqdm(model_files):\n",
    "    in_file = open(file_name,'rb')\n",
    "    model = pickle.load(in_file)\n",
    "    in_file.close()\n",
    "\n",
    "    #Do the prediction by calling the \"predict\" member function of the model object on the\n",
    "    # validation data with the 8 features\n",
    "    X_test = validation.iloc[:,:-1]\n",
    "    y_test = validation.iloc[:,-1]\n",
    "    y_pred = model.predict(X_test)\n",
    "    \n",
    "    \n",
    "    #@TODO: Complete and revise the following...\n",
    "    \n",
    "    def confusion_matrix(y_actual, y_pred):\n",
    "        assert(len(y_actual)==len(y_pred))\n",
    "    \n",
    "        TP = 0\n",
    "        FP = 0\n",
    "        TN = 0\n",
    "        FN = 0\n",
    "    \n",
    "        data = {'y_Actual': y_actual,\n",
    "            'y_Predicted': y_pred \n",
    "            }\n",
    "    \n",
    "        df = pd.DataFrame(data, columns=['y_Actual','y_Predicted'])\n",
    "    \n",
    "        confusion_matrix = pd.crosstab(df['y_Actual'], df['y_Predicted'], rownames=['Actual'], colnames=['Predicted'])\n",
    "    \n",
    "        for i in range(len(y_pred)): \n",
    "            if y_actual[i]==y_pred[i]==1:\n",
    "               TP += 1\n",
    "            if y_pred[i]==1 and y_actual[i]!=y_pred[i]:\n",
    "               FP += 1\n",
    "            if y_actual[i]==y_pred[i]==0:\n",
    "               TN += 1\n",
    "            if y_pred[i]==0 and y_actual[i]!=y_pred[i]:\n",
    "               FN += 1\n",
    "\n",
    "        return [TN,FP, FN, TP]\n",
    "\n",
    "    conf_mat = confusion_matrix(y_test, y_pred)\n",
    "    \n",
    "    [TN, FP, FN, TP] = conf_mat\n",
    "    \n",
    "    if (TN+TP+FP+FN) == 0:\n",
    "        acc = -1\n",
    "    else:\n",
    "        acc = (TN+TP)/(TN+TP+FP+FN)\n",
    "    \n",
    "    if (TP+FP) == 0:\n",
    "        prec = -1\n",
    "    else:\n",
    "        prec = TP/(TP+FP)\n",
    "        \n",
    "    if (TP+FN) == 0:\n",
    "        rec = -1\n",
    "    else:\n",
    "        rec = TP/(TP+FN)\n",
    "        \n",
    "    if (prec == 0 or rec == 0):\n",
    "        f1 = -1\n",
    "    else:\n",
    "        f1 = 2/((1/prec)+(1/rec))\n",
    "        \n",
    "    if (FP+TP) == 0:\n",
    "        fdr = -1\n",
    "    else:\n",
    "        fdr = FP/(FP+TP)  \n",
    "        \n",
    "    if (TP+FP)*(TP+FN)*(TN+FP)*(TN+FN) == 0:\n",
    "        mcc = -1\n",
    "    else:\n",
    "        mcc = ((TP*TN) - (FP*FN))/math.sqrt((TP+FP)*(TP+FN)*(TN+FP)*(TN+FN)) \n",
    "    \n",
    "    result = result.append(pd.Series([file_name,acc,prec,rec,f1,mcc,fdr],index=result.columns),ignore_index=True)\n"
   ]
  },
  {
   "cell_type": "code",
   "execution_count": 23,
   "id": "63f35a47",
   "metadata": {},
   "outputs": [
    {
     "name": "stdout",
     "output_type": "stream",
     "text": [
      "           model_name  Accuracy  Precision   Recall        F1       MCC  \\\n",
      "0  models/Model_1.pkl  0.337583   0.334082  0.99995  0.500835  0.050929   \n",
      "1  models/Model_2.pkl  0.334083   0.332910  0.99995  0.499518  0.028982   \n",
      "2  models/Model_3.pkl  0.667667  -1.000000  0.00000 -1.000000 -1.000000   \n",
      "3  models/Model_4.pkl  0.390483   0.352497  0.99659  0.520789  0.168805   \n",
      "4  models/Model_5.pkl  0.333583   0.332744  0.99995  0.499330  0.024302   \n",
      "5  models/Model_6.pkl  0.337500   0.334054  0.99995  0.500804  0.050516   \n",
      "\n",
      "        FDR  \n",
      "0  0.665918  \n",
      "1  0.667090  \n",
      "2 -1.000000  \n",
      "3  0.647503  \n",
      "4  0.667256  \n",
      "5  0.665946  \n"
     ]
    }
   ],
   "source": [
    "print(result)"
   ]
  },
  {
   "cell_type": "markdown",
   "id": "1388167d",
   "metadata": {},
   "source": [
    "## Task : M\n",
    "Print the model name with path which is performing superior among the 6 pretrained models in terms of accuracy, given the performance result dataframe from “L”"
   ]
  },
  {
   "cell_type": "code",
   "execution_count": 4,
   "id": "1552ca2d",
   "metadata": {},
   "outputs": [
    {
     "ename": "NameError",
     "evalue": "name 'result' is not defined",
     "output_type": "error",
     "traceback": [
      "\u001b[0;31m---------------------------------------------------------------------------\u001b[0m",
      "\u001b[0;31mNameError\u001b[0m                                 Traceback (most recent call last)",
      "Input \u001b[0;32mIn [4]\u001b[0m, in \u001b[0;36m<cell line: 1>\u001b[0;34m()\u001b[0m\n\u001b[0;32m----> 1\u001b[0m \u001b[38;5;28mprint\u001b[39m((\u001b[43mresult\u001b[49m\u001b[38;5;241m.\u001b[39miloc[result[\u001b[38;5;124m'\u001b[39m\u001b[38;5;124mAccuracy\u001b[39m\u001b[38;5;124m'\u001b[39m]\u001b[38;5;241m.\u001b[39margmax()])[\u001b[38;5;124m'\u001b[39m\u001b[38;5;124mmodel_name\u001b[39m\u001b[38;5;124m'\u001b[39m])\n",
      "\u001b[0;31mNameError\u001b[0m: name 'result' is not defined"
     ]
    }
   ],
   "source": [
    "print((result.iloc[result['Accuracy'].argmax()])['model_name'])"
   ]
  },
  {
   "cell_type": "markdown",
   "id": "fa229f32",
   "metadata": {},
   "source": [
    "## Task : N\n",
    "Print the model name with path which is performing the worst among the 6 pretrained models in terms of recall, given the performance result dataframe from “L”"
   ]
  },
  {
   "cell_type": "code",
   "execution_count": 25,
   "id": "e940ab1c",
   "metadata": {},
   "outputs": [
    {
     "name": "stdout",
     "output_type": "stream",
     "text": [
      "models/Model_3.pkl\n"
     ]
    }
   ],
   "source": [
    "print((result.iloc[result['Recall'].argmin()])['model_name'])"
   ]
  },
  {
   "cell_type": "markdown",
   "id": "e1a6aac4",
   "metadata": {},
   "source": [
    "## Task : O\n",
    "Scale all the features of the validation set using the formula, z = (x-m)/s,\n",
    "    \n",
    "    where m = mean of a feature in the training set: \"dataset/training.csv\"\n",
    "    \n",
    "    s = standard deviation of the feature in the training set: \"dataset/training.csv\"\n",
    "    \n",
    "    #  DO NOT SCALE the target feature.\n",
    "    \n",
    "    # At the end, return a tuple (X, y), with X being a numpy array of shape (N,8) and y is an N dim array and \n",
    "\n",
    "N is the total number of samples in the validation set: \"dataset/validation.csv\".\n",
    "\n",
    "Store the scaled dataset in a variable (preferably a dataframe) named “X_validation_scaled”.\n"
   ]
  },
  {
   "cell_type": "code",
   "execution_count": 26,
   "id": "683119f9",
   "metadata": {},
   "outputs": [
    {
     "name": "stdout",
     "output_type": "stream",
     "text": [
      "              0         1         2         3         4         5         6  \\\n",
      "0      0.668431 -0.857478 -0.293396  0.133902  1.041074 -1.640527  1.326126   \n",
      "1      1.061591 -0.857478 -0.138676 -0.791180  0.705617  3.791066  0.717513   \n",
      "2      0.810405 -0.763487 -0.535142  0.133902  0.442046 -0.051527 -0.025456   \n",
      "3     -1.848890  1.163327  0.952252 -0.440399  0.188217 -0.497040 -0.499689   \n",
      "4      0.269809 -0.763487  0.103768  0.287572 -0.306732  1.062266  1.160136   \n",
      "...         ...       ...       ...       ...       ...       ...       ...   \n",
      "59995 -1.472111  1.257318  0.238462 -0.161901  0.082644  0.217638  0.451264   \n",
      "59996  0.182440  1.116332  0.512453  0.313184 -1.355036  0.079518 -0.077766   \n",
      "59997 -2.236590  1.257318  0.238462 -0.336715  0.277320  0.217638 -0.309508   \n",
      "59998  1.290935 -0.857478 -0.390095  0.047859  0.705617 -0.329975 -0.914651   \n",
      "59999 -1.816127  1.257318  0.320905 -2.127686  0.746478 -0.318376 -0.119303   \n",
      "\n",
      "              7  8  \n",
      "0     -0.636158  0  \n",
      "1     -1.994420  0  \n",
      "2      0.197319  0  \n",
      "3      0.679675  1  \n",
      "4     -1.456418  1  \n",
      "...         ... ..  \n",
      "59995 -0.381483  1  \n",
      "59996 -0.327975  0  \n",
      "59997 -0.169261  1  \n",
      "59998  0.858813  0  \n",
      "59999  0.042985  1  \n",
      "\n",
      "[60000 rows x 9 columns]\n"
     ]
    }
   ],
   "source": [
    "val_df = validation \n",
    "#val_df= val_df.drop(validation.columns[8],axis=1)\n",
    "# m = val_df.mean()\n",
    "# s = val_df.std()\n",
    "\n",
    "\n",
    "\n",
    "\n",
    "for column in val_df.columns:\n",
    "    val_df[column] = (val_df[column] - val_df[column].mean()) / val_df[column].std()\n",
    "    if column == 7:\n",
    "        break\n",
    "X_validation_scaled = val_df\n",
    "\n",
    "\n",
    "print(X_validation_scaled)"
   ]
  },
  {
   "cell_type": "markdown",
   "id": "7c0d7b7c",
   "metadata": {},
   "source": [
    "## Task : P\n",
    "Print as a dataframe containing:\n",
    "  {model_name,acc,prec,rec,f1,mcc,FDR} for each of the N models (listed in model_files) after  predicting the target variables \"y\" (given) for \"X\" (the scaled validation dataset).\n"
   ]
  },
  {
   "cell_type": "code",
   "execution_count": 27,
   "id": "9f08e70f",
   "metadata": {},
   "outputs": [
    {
     "name": "stderr",
     "output_type": "stream",
     "text": [
      "100%|████████████████████████████████████████████████████████████████████████████████████| 6/6 [01:40<00:00, 16.78s/it]\n"
     ]
    }
   ],
   "source": [
    "import pickle\n",
    "import numpy as np\n",
    "import pandas as pd\n",
    "import sys\n",
    "import os\n",
    "import math\n",
    "from tqdm import tqdm\n",
    "from sklearn.linear_model import LogisticRegression\n",
    "from sklearn.neural_network import MLPClassifier\n",
    "from sklearn import tree\n",
    "from sklearn.svm import SVC\n",
    "from sklearn.neighbors import KNeighborsClassifier\n",
    "result = pd.DataFrame(columns=['model_name','Accuracy','Precision','Recall','F1','MCC','FDR'])\n",
    "\n",
    "model_files=[\"models/Model_1.pkl\",\"models/Model_2.pkl\",\"models/Model_3.pkl\",\\\n",
    "                            \"models/Model_4.pkl\",\"models/Model_5.pkl\",\"models/Model_6.pkl\"]\n",
    "\n",
    "\n",
    "val_df = validation \n",
    "#val_df= val_df.drop(validation.columns[8],axis=1)\n",
    "# m = val_df.mean()\n",
    "# s = val_df.std()\n",
    "\n",
    "for column in val_df.columns:\n",
    "    val_df[column] = (val_df[column] - val_df[column].mean()) / val_df[column].std()\n",
    "    if column == 7:\n",
    "        break\n",
    "    \n",
    "#print(val_df)\n",
    "\n",
    "\n",
    "for file_name in tqdm(model_files):\n",
    "    in_file = open(file_name,'rb')\n",
    "    model = pickle.load(in_file)\n",
    "    in_file.close()    \n",
    "    \n",
    "    \n",
    "    X_test = val_df.iloc[:,:-1]\n",
    "    y_test = val_df.iloc[:,-1]\n",
    "    y_pred = model.predict(X_test)\n",
    "    \n",
    "    \n",
    "    #@TODO: Complete and revise the following...\n",
    "    \n",
    "    def confusion_matrix(y_actual, y_pred):\n",
    "        assert(len(y_actual)==len(y_pred))\n",
    "    \n",
    "        TP = 0\n",
    "        FP = 0\n",
    "        TN = 0\n",
    "        FN = 0\n",
    "    \n",
    "        data = {'y_Actual': y_actual,\n",
    "            'y_Predicted': y_pred \n",
    "            }\n",
    "    \n",
    "        df = pd.DataFrame(data, columns=['y_Actual','y_Predicted'])\n",
    "    \n",
    "        confusion_matrix = pd.crosstab(df['y_Actual'], df['y_Predicted'], rownames=['Actual'], colnames=['Predicted'])\n",
    "    \n",
    "        for i in range(len(y_pred)): \n",
    "            if y_actual[i]==y_pred[i]==1:\n",
    "               TP += 1\n",
    "            if y_pred[i]==1 and y_actual[i]!=y_pred[i]:\n",
    "               FP += 1\n",
    "            if y_actual[i]==y_pred[i]==0:\n",
    "               TN += 1\n",
    "            if y_pred[i]==0 and y_actual[i]!=y_pred[i]:\n",
    "               FN += 1\n",
    "\n",
    "        return [TN,FP, FN, TP]\n",
    "\n",
    "    conf_mat = confusion_matrix(y_test, y_pred)\n",
    "    \n",
    "    [TN, FP, FN, TP] = conf_mat\n",
    "    \n",
    "    if (TN+TP+FP+FN) == 0:\n",
    "        acc = -1\n",
    "    else:\n",
    "        acc = (TN+TP)/(TN+TP+FP+FN)\n",
    "    \n",
    "    if (TP+FP) == 0:\n",
    "        prec = -1\n",
    "    else:\n",
    "        prec = TP/(TP+FP)\n",
    "        \n",
    "    if (TP+FN) == 0:\n",
    "        rec = -1\n",
    "    else:\n",
    "        rec = TP/(TP+FN)\n",
    "        \n",
    "    if (prec == 0 or rec == 0):\n",
    "        f1 = -1\n",
    "    else:\n",
    "        f1 = 2/((1/prec)+(1/rec))\n",
    "        \n",
    "    if (FP+TP) == 0:\n",
    "        fdr = -1\n",
    "    else:\n",
    "        fdr = FP/(FP+TP)  \n",
    "        \n",
    "    if (TP+FP)*(TP+FN)*(TN+FP)*(TN+FN) == 0:\n",
    "        mcc = -1\n",
    "    else:\n",
    "        mcc = ((TP*TN) - (FP*FN))/math.sqrt((TP+FP)*(TP+FN)*(TN+FP)*(TN+FN)) \n",
    "    \n",
    "    result = result.append(pd.Series([file_name,acc,prec,rec,f1,mcc,fdr],index=result.columns),ignore_index=True)\n",
    "    r_taskU = result"
   ]
  },
  {
   "cell_type": "code",
   "execution_count": 28,
   "id": "4040548b",
   "metadata": {},
   "outputs": [
    {
     "name": "stdout",
     "output_type": "stream",
     "text": [
      "           model_name  Accuracy  Precision    Recall        F1       MCC  \\\n",
      "0  models/Model_1.pkl  0.954083   0.938818  0.921916  0.930290  0.896144   \n",
      "1  models/Model_2.pkl  0.943550   0.895834  0.939368  0.917085  0.874895   \n",
      "2  models/Model_3.pkl  0.963883   0.936962  0.955617  0.946198  0.919121   \n",
      "3  models/Model_4.pkl  0.953367   0.942671  0.915346  0.928808  0.894360   \n",
      "4  models/Model_5.pkl  0.892833   0.830382  0.851454  0.840786  0.760176   \n",
      "5  models/Model_6.pkl  0.955467   0.929766  0.936760  0.933250  0.899852   \n",
      "\n",
      "        FDR  \n",
      "0  0.061182  \n",
      "1  0.104166  \n",
      "2  0.063038  \n",
      "3  0.057329  \n",
      "4  0.169618  \n",
      "5  0.070234  \n"
     ]
    }
   ],
   "source": [
    "print(result)"
   ]
  },
  {
   "cell_type": "markdown",
   "id": "0ac093d5",
   "metadata": {},
   "source": [
    "## Task : Q\n",
    "Print the model name with path which is performing superior in terms of accuracy, given the performance result dataframe from “P”"
   ]
  },
  {
   "cell_type": "code",
   "execution_count": 29,
   "id": "be1a6362",
   "metadata": {},
   "outputs": [
    {
     "name": "stdout",
     "output_type": "stream",
     "text": [
      "models/Model_3.pkl\n"
     ]
    }
   ],
   "source": [
    "print((result.iloc[result['Accuracy'].argmax()])['model_name'])"
   ]
  },
  {
   "cell_type": "markdown",
   "id": "5249c432",
   "metadata": {},
   "source": [
    "## Task : R\n",
    "Print the model name with path which is performing the worst in terms of recall, given the performance result dataframe from “P”"
   ]
  },
  {
   "cell_type": "code",
   "execution_count": 30,
   "id": "95773261",
   "metadata": {},
   "outputs": [
    {
     "name": "stdout",
     "output_type": "stream",
     "text": [
      "models/Model_5.pkl\n"
     ]
    }
   ],
   "source": [
    "print((result.iloc[result['Recall'].argmin()])['model_name'])"
   ]
  },
  {
   "cell_type": "markdown",
   "id": "0e6efd5f",
   "metadata": {},
   "source": [
    "## Task : S\n",
    "Flip the prediction of Model 1, and then compute and\n",
    " print as a dataframe containing: {acc,prec,rec,f1,mcc,FDR} \n",
    "on the original (i.e., not-scaled) validation dataset: \"dataset/validation.csv\"\n"
   ]
  },
  {
   "cell_type": "code",
   "execution_count": 31,
   "id": "3c776b84",
   "metadata": {},
   "outputs": [
    {
     "name": "stderr",
     "output_type": "stream",
     "text": [
      "100%|████████████████████████████████████████████████████████████████████████████████████| 1/1 [00:00<00:00,  1.31it/s]\n"
     ]
    }
   ],
   "source": [
    "import pickle\n",
    "import numpy as np\n",
    "import pandas as pd\n",
    "import sys\n",
    "import os\n",
    "import math\n",
    "from tqdm import tqdm\n",
    "from sklearn.linear_model import LogisticRegression\n",
    "from sklearn.neural_network import MLPClassifier\n",
    "from sklearn import tree\n",
    "from sklearn.svm import SVC\n",
    "from sklearn.neighbors import KNeighborsClassifier\n",
    "\n",
    "result = pd.DataFrame(columns=['model_name','Accuracy','Precision','Recall','F1','MCC','FDR'])\n",
    "model_files=[\"models/Model_1.pkl\"]\n",
    "\n",
    "for file_name in tqdm(model_files):\n",
    "    in_file = open(file_name,'rb')\n",
    "    model = pickle.load(in_file)\n",
    "    in_file.close()    \n",
    "    \n",
    "    X_test = validation.iloc[:,:-1]\n",
    "    y_test = validation.iloc[:,-1]\n",
    "    y_pred = model.predict(X_test)\n",
    "    \n",
    "    def confusion_matrix(y_actual, y_pred):\n",
    "        assert(len(y_actual)==len(y_pred))\n",
    "    \n",
    "        TP = 0\n",
    "        FP = 0\n",
    "        TN = 0\n",
    "        FN = 0\n",
    "    \n",
    "        data = {'y_Actual': y_actual,\n",
    "            'y_Predicted': y_pred \n",
    "            }\n",
    "    \n",
    "        df = pd.DataFrame(data, columns=['y_Actual','y_Predicted'])\n",
    "    \n",
    "        confusion_matrix = pd.crosstab(df['y_Actual'], df['y_Predicted'], rownames=['Actual'], colnames=['Predicted'])\n",
    "    \n",
    "        for i in range(len(y_pred)): \n",
    "            if y_actual[i]==y_pred[i]==1:\n",
    "               TP += 1\n",
    "            if y_pred[i]==1 and y_actual[i]!=y_pred[i]:\n",
    "               FP += 1\n",
    "            if y_actual[i]==y_pred[i]==0:\n",
    "               TN += 1\n",
    "            if y_pred[i]==0 and y_actual[i]!=y_pred[i]:\n",
    "               FN += 1\n",
    "\n",
    "        return [TN,FP, FN, TP]\n",
    "\n",
    "    conf_mat = confusion_matrix(y_test, y_pred)\n",
    "    \n",
    "    [TN, FP, FN, TP] = conf_mat\n",
    "    \n",
    "    TEMPVAR = FN\n",
    "    FN = FP\n",
    "    FP = TEMPVAR\n",
    "    \n",
    "    TEMPVAR = 0\n",
    "    \n",
    "    TEMPVAR = TN\n",
    "    TN = TP\n",
    "    TP = TEMPVAR\n",
    "    \n",
    "    \n",
    "    if (TN+TP+FP+FN) == 0:\n",
    "        acc = -1\n",
    "    else:\n",
    "        acc = (TN+TP)/(TN+TP+FP+FN)\n",
    "    \n",
    "    if (TP+FP) == 0:\n",
    "        prec = -1\n",
    "    else:\n",
    "        prec = TP/(TP+FP)\n",
    "        \n",
    "    if (TP+FN) == 0:\n",
    "        rec = -1\n",
    "    else:\n",
    "        rec = TP/(TP+FN)\n",
    "        \n",
    "    if (prec == 0 or rec == 0):\n",
    "        f1 = -1\n",
    "    else:\n",
    "        f1 = 2/((1/prec)+(1/rec))\n",
    "        \n",
    "    if (FP+TP) == 0:\n",
    "        fdr = -1\n",
    "    else:\n",
    "        fdr = FP/(FP+TP)  \n",
    "        \n",
    "    if (TP+FP)*(TP+FN)*(TN+FP)*(TN+FN) == 0:\n",
    "        mcc = -1\n",
    "    else:\n",
    "        mcc = ((TP*TN) - (FP*FN))/math.sqrt((TP+FP)*(TP+FN)*(TN+FP)*(TN+FN)) \n",
    "    \n",
    "    result = result.append(pd.Series([file_name,acc,prec,rec,f1,mcc,fdr],index=result.columns),ignore_index=True)\n",
    "\n",
    "    \n",
    "    "
   ]
  },
  {
   "cell_type": "code",
   "execution_count": 32,
   "id": "129b5a43",
   "metadata": {},
   "outputs": [
    {
     "name": "stdout",
     "output_type": "stream",
     "text": [
      "           model_name  Accuracy  Precision    Recall        F1       MCC  \\\n",
      "0  models/Model_1.pkl  0.954083   0.961479  0.970095  0.965767  0.896144   \n",
      "\n",
      "        FDR  \n",
      "0  0.038521  \n"
     ]
    }
   ],
   "source": [
    "print(result)"
   ]
  },
  {
   "cell_type": "markdown",
   "id": "7901669d",
   "metadata": {},
   "source": [
    "## Task : T\n",
    "Say, in a confusion matrix, the values of the four metrics are: TP=90, TN=1, FP=4, FN=5. Compute F1_original and MCC_original denoting the F1 and MCC scores.\n",
    "\n",
    "Now, flip the predictions, i.e., positives are now will be predicted as negative, and negatives are going to be predicted as positive. \n",
    "\n",
    "Then, compute F1_flipped and MCC_flipped, denoting corresponding F1 and MCC scores. \n",
    "\n",
    "Print/Return the new {TP, TN, FP, FN, F1_original,MCC_original,F1_flipped, MCC_flipped, COMMENT_string} as a dataframe, where COMMENT_string is a string that will be no longer than 200 characters but is going to be your comment about the F1 and MCC values for the two cases.\n"
   ]
  },
  {
   "cell_type": "code",
   "execution_count": 33,
   "id": "bcd5c9b9",
   "metadata": {},
   "outputs": [
    {
     "name": "stdout",
     "output_type": "stream",
     "text": [
      "0.9523809523809526 0.8961441027242792\n",
      "0.18181818181818182 0.13524203070138519\n",
      "[1, 90, 5, 4, 0.9523809523809526, 0.13524203070138519, 0.18181818181818182, 0.13524203070138519, 'In the first case, the accuraccy was about 95% with MCC being 0.135. While when the values were flipped, the accuraccy dropped to 18%, although the MCC remained the same']\n"
     ]
    }
   ],
   "source": [
    "import pandas as pd\n",
    "#pd.set_option('display.max_colwidth', 199)  # or 199\n",
    "\n",
    "result = pd.DataFrame(columns=[{'TP', 'TN', 'FP', 'FN', 'F1_original','MCC_original','F1_flipped', 'MCC_flipped', 'COMMENT_string'}])\n",
    "\n",
    "TP = 90\n",
    "TN = 1\n",
    "FP = 4\n",
    "FN = 5\n",
    "\n",
    "if (TP+FP) == 0:\n",
    "    prec = -1\n",
    "else:\n",
    "    prec = TP/(TP+FP)\n",
    "        \n",
    "if (TP+FN) == 0:\n",
    "    rec = -1\n",
    "else:\n",
    "    rec = TP/(TP+FN)\n",
    "\n",
    "if (prec == 0 or rec == 0):\n",
    "    F1_original = -1\n",
    "else:\n",
    "    F1_original = 2/((1/prec)+(1/rec))\n",
    "\n",
    "if (TP+FP)*(TP+FN)*(TN+FP)*(TN+FN) == 0:\n",
    "    MCC_original = -1\n",
    "else:\n",
    "    MCC_original = ((TP*TN) - (FP*FN))/math.sqrt((TP+FP)*(TP+FN)*(TN+FP)*(TN+FN)) \n",
    "    \n",
    "print(F1_original,mcc)\n",
    "\n",
    "TEMPVAR = FN\n",
    "FN = FP\n",
    "FP = TEMPVAR\n",
    "    \n",
    "TEMPVAR = 0\n",
    "    \n",
    "TEMPVAR = TN\n",
    "TN = TP\n",
    "TP = TEMPVAR\n",
    "\n",
    "if (TP+FP) == 0:\n",
    "    prec = -1\n",
    "else:\n",
    "    prec = TP/(TP+FP)\n",
    "        \n",
    "if (TP+FN) == 0:\n",
    "    rec = -1\n",
    "else:\n",
    "    rec = TP/(TP+FN)\n",
    "\n",
    "if (prec == 0 or rec == 0):\n",
    "    F1_flipped = -1\n",
    "else:\n",
    "    F1_flipped = 2/((1/prec)+(1/rec))\n",
    "\n",
    "if (TP+FP)*(TP+FN)*(TN+FP)*(TN+FN) == 0:\n",
    "    MCC_flipped = -1\n",
    "else:\n",
    "    MCC_flipped = ((TP*TN) - (FP*FN))/math.sqrt((TP+FP)*(TP+FN)*(TN+FP)*(TN+FN))\n",
    "    \n",
    "print(F1_flipped, MCC_flipped)\n",
    "\n",
    "COMMENT_string = 'In the first case, the accuraccy was about 95% with MCC being 0.135. While when the values were flipped, the accuraccy dropped to 18%, although the MCC remained the same'\n",
    "    \n",
    "result = [TP, TN, FP, FN, F1_original,MCC_original,F1_flipped, MCC_flipped, COMMENT_string]\n",
    "print(result)\n",
    "\n"
   ]
  },
  {
   "cell_type": "code",
   "execution_count": null,
   "id": "93157967",
   "metadata": {},
   "outputs": [],
   "source": []
  },
  {
   "cell_type": "code",
   "execution_count": null,
   "id": "62d084c6",
   "metadata": {},
   "outputs": [],
   "source": []
  },
  {
   "cell_type": "markdown",
   "id": "76ba9996",
   "metadata": {},
   "source": [
    "## For Graduate Students only"
   ]
  },
  {
   "cell_type": "markdown",
   "id": "70a72e6c",
   "metadata": {},
   "source": [
    "## Task: U\n",
    "This task is a follow up of Task P. There is always cost associated with misclassifications. For instance, if a model predicts a ncRNA (class=1) to be non ncRNA (class=0), further verfication will then follow that includes going through the next generation sequencing of those samples costing USD 20 per sample. On the other hand, cost of predicting a non ncRNA to be ncRNA insignificant as most researchers do not care for ncRNAs. They might put it in a piece of paper as a note costing USD 1 per 5 samples. The same cost applies to correct predictions too.\n",
    "\n",
    "What is the cost of predictions with each of the six models?"
   ]
  },
  {
   "cell_type": "code",
   "execution_count": 34,
   "id": "b4027ef3",
   "metadata": {},
   "outputs": [
    {
     "name": "stdout",
     "output_type": "stream",
     "text": [
      "models/Model_1.pkl 67100.00000000006 USD\n",
      "models/Model_2.pkl 136998.80434262753 USD\n",
      "models/Model_3.pkl 65259.77933801398 USD\n",
      "models/Model_4.pkl 97430.7668820926 USD\n",
      "models/Model_5.pkl 299788.3529215119 USD\n",
      "models/Model_6.pkl 1127719.263315082 USD\n"
     ]
    }
   ],
   "source": [
    "for i in range(0,6):\n",
    "    sum1=0\n",
    "    sum1 = (1- r_taskU.iloc[i,i+1])*60000*20+(60000*0.2)\n",
    "    print(r_taskU.iloc[i,0],sum1 ,\"USD\")"
   ]
  },
  {
   "cell_type": "markdown",
   "id": "e0a14fbd",
   "metadata": {},
   "source": [
    "## Task: V\n",
    "Please comment on which of the six models is the best on the cost basis."
   ]
  },
  {
   "cell_type": "code",
   "execution_count": 35,
   "id": "64aa50cc",
   "metadata": {},
   "outputs": [
    {
     "name": "stdout",
     "output_type": "stream",
     "text": [
      "Model 3 can be considered best based on cost basis\n"
     ]
    }
   ],
   "source": [
    "print(\"Model 3 can be considered best based on cost basis\")"
   ]
  },
  {
   "cell_type": "markdown",
   "id": "ccf512d2",
   "metadata": {},
   "source": [
    "## Task: W\n",
    "Please comment on which of the six models is the best overall. Explain your answer."
   ]
  },
  {
   "cell_type": "code",
   "execution_count": 36,
   "id": "15409d18",
   "metadata": {},
   "outputs": [
    {
     "name": "stdout",
     "output_type": "stream",
     "text": [
      "model 3, again, can be considered best overall\n"
     ]
    }
   ],
   "source": [
    "print(\"model 3, again, can be considered best overall\")"
   ]
  },
  {
   "cell_type": "code",
   "execution_count": 37,
   "id": "821e9cea",
   "metadata": {},
   "outputs": [
    {
     "name": "stdout",
     "output_type": "stream",
     "text": [
      "model 3 has the best accuraccy and the best precision, among all other models.\n"
     ]
    }
   ],
   "source": [
    "print(\"model 3 has the best accuraccy and the best precision, among all other models.\")"
   ]
  },
  {
   "cell_type": "markdown",
   "id": "be2434a5",
   "metadata": {},
   "source": [
    "## Task: X\n",
    "Again a followup of Tasks O and P: Please scale the given validation dataset with an alternate scaling technique you can think of and repeat Task P with the modified scaled validation."
   ]
  },
  {
   "cell_type": "code",
   "execution_count": 38,
   "id": "d0ff9a77",
   "metadata": {},
   "outputs": [
    {
     "name": "stderr",
     "output_type": "stream",
     "text": [
      "100%|████████████████████████████████████████████████████████████████████████████████████| 6/6 [02:00<00:00, 20.14s/it]\n"
     ]
    }
   ],
   "source": [
    "import pickle\n",
    "import numpy as np\n",
    "import pandas as pd\n",
    "import sys\n",
    "import os\n",
    "import math\n",
    "from tqdm import tqdm\n",
    "from sklearn.linear_model import LogisticRegression\n",
    "from sklearn.neural_network import MLPClassifier\n",
    "from sklearn import tree\n",
    "from sklearn.svm import SVC\n",
    "from sklearn.neighbors import KNeighborsClassifier\n",
    "result = pd.DataFrame(columns=['model_name','Accuracy','Precision','Recall','F1','MCC','FDR'])\n",
    "\n",
    "model_files=[\"models/Model_1.pkl\",\"models/Model_2.pkl\",\"models/Model_3.pkl\",\\\n",
    "                            \"models/Model_4.pkl\",\"models/Model_5.pkl\",\"models/Model_6.pkl\"]\n",
    "\n",
    "\n",
    "val_df = validation \n",
    "#val_df= val_df.drop(validation.columns[8],axis=1)\n",
    "# m = val_df.mean()\n",
    "# s = val_df.std()\n",
    "\n",
    "for column in val_df.columns:\n",
    "    val_df[column] = val_df[column]  / val_df[column].abs().max()\n",
    "    if column == 7:\n",
    "        break\n",
    "    \n",
    "#print(val_df)\n",
    "\n",
    "\n",
    "for file_name in tqdm(model_files):\n",
    "    in_file = open(file_name,'rb')\n",
    "    model = pickle.load(in_file)\n",
    "    in_file.close()    \n",
    "    \n",
    "    \n",
    "    X_test = val_df.iloc[:,:-1]\n",
    "    y_test = val_df.iloc[:,-1]\n",
    "    y_pred = model.predict(X_test)\n",
    "    \n",
    "    \n",
    "    #@TODO: Complete and revise the following...\n",
    "    \n",
    "    def confusion_matrix(y_actual, y_pred):\n",
    "        assert(len(y_actual)==len(y_pred))\n",
    "    \n",
    "        TP = 0\n",
    "        FP = 0\n",
    "        TN = 0\n",
    "        FN = 0\n",
    "    \n",
    "        data = {'y_Actual': y_actual,\n",
    "            'y_Predicted': y_pred \n",
    "            }\n",
    "    \n",
    "        df = pd.DataFrame(data, columns=['y_Actual','y_Predicted'])\n",
    "    \n",
    "        confusion_matrix = pd.crosstab(df['y_Actual'], df['y_Predicted'], rownames=['Actual'], colnames=['Predicted'])\n",
    "    \n",
    "        for i in range(len(y_pred)): \n",
    "            if y_actual[i]==y_pred[i]==1:\n",
    "               TP += 1\n",
    "            if y_pred[i]==1 and y_actual[i]!=y_pred[i]:\n",
    "               FP += 1\n",
    "            if y_actual[i]==y_pred[i]==0:\n",
    "               TN += 1\n",
    "            if y_pred[i]==0 and y_actual[i]!=y_pred[i]:\n",
    "               FN += 1\n",
    "\n",
    "        return [TN,FP, FN, TP]\n",
    "\n",
    "    conf_mat = confusion_matrix(y_test, y_pred)\n",
    "    \n",
    "    [TN, FP, FN, TP] = conf_mat\n",
    "    \n",
    "    if (TN+TP+FP+FN) == 0:\n",
    "        acc = -1\n",
    "    else:\n",
    "        acc = (TN+TP)/(TN+TP+FP+FN)\n",
    "    \n",
    "    if (TP+FP) == 0:\n",
    "        prec = -1\n",
    "    else:\n",
    "        prec = TP/(TP+FP)\n",
    "        \n",
    "    if (TP+FN) == 0:\n",
    "        rec = -1\n",
    "    else:\n",
    "        rec = TP/(TP+FN)\n",
    "        \n",
    "    if (prec == 0 or rec == 0):\n",
    "        f1 = -1\n",
    "    else:\n",
    "        f1 = 2/((1/prec)+(1/rec))\n",
    "        \n",
    "    if (FP+TP) == 0:\n",
    "        fdr = -1\n",
    "    else:\n",
    "        fdr = FP/(FP+TP)  \n",
    "        \n",
    "    if (TP+FP)*(TP+FN)*(TN+FP)*(TN+FN) == 0:\n",
    "        mcc = -1\n",
    "    else:\n",
    "        mcc = ((TP*TN) - (FP*FN))/math.sqrt((TP+FP)*(TP+FN)*(TN+FP)*(TN+FN)) \n",
    "    \n",
    "    result = result.append(pd.Series([file_name,acc,prec,rec,f1,mcc,fdr],index=result.columns),ignore_index=True)\n",
    "    r_taskU = result"
   ]
  },
  {
   "cell_type": "code",
   "execution_count": 39,
   "id": "c3adf9c4",
   "metadata": {},
   "outputs": [
    {
     "name": "stdout",
     "output_type": "stream",
     "text": [
      "           model_name  Accuracy  Precision    Recall        F1       MCC  \\\n",
      "0  models/Model_1.pkl  0.780417   0.847815  0.413490  0.555874  0.481299   \n",
      "1  models/Model_2.pkl  0.644050   0.458104  0.388516  0.420450  0.167269   \n",
      "2  models/Model_3.pkl  0.620867   0.445754  0.578586  0.503557  0.209716   \n",
      "3  models/Model_4.pkl  0.700167   0.545986  0.580542  0.562734  0.335294   \n",
      "4  models/Model_5.pkl  0.706783   0.860301  0.140522  0.241583  0.268530   \n",
      "5  models/Model_6.pkl  0.798083   0.806454  0.516349  0.629590  0.523292   \n",
      "\n",
      "        FDR  \n",
      "0  0.152185  \n",
      "1  0.541896  \n",
      "2  0.554246  \n",
      "3  0.454014  \n",
      "4  0.139699  \n",
      "5  0.193546  \n"
     ]
    }
   ],
   "source": [
    "print(result)"
   ]
  },
  {
   "cell_type": "markdown",
   "id": "bdf41c13",
   "metadata": {},
   "source": [
    "## Task: Y\n",
    "Print the model name with path which is performing superior in terms of accuracy, given the performance result dataframe from “X”"
   ]
  },
  {
   "cell_type": "code",
   "execution_count": 40,
   "id": "b30e3428",
   "metadata": {},
   "outputs": [
    {
     "name": "stdout",
     "output_type": "stream",
     "text": [
      "models/Model_6.pkl\n"
     ]
    }
   ],
   "source": [
    "print((result.iloc[result['Accuracy'].argmax()])['model_name'])"
   ]
  },
  {
   "cell_type": "markdown",
   "id": "b7f35599",
   "metadata": {},
   "source": [
    "## Task: Z\n",
    "Print the model name with path which is performing the worst in terms of recall, given the performance result dataframe from “X”"
   ]
  },
  {
   "cell_type": "code",
   "execution_count": 42,
   "id": "ea65917d",
   "metadata": {},
   "outputs": [
    {
     "name": "stdout",
     "output_type": "stream",
     "text": [
      "models/Model_5.pkl\n"
     ]
    }
   ],
   "source": [
    "print((result.iloc[result['Recall'].argmin()])['model_name'])"
   ]
  }
 ],
 "metadata": {
  "kernelspec": {
   "display_name": "Python 3 (ipykernel)",
   "language": "python",
   "name": "python3"
  },
  "language_info": {
   "codemirror_mode": {
    "name": "ipython",
    "version": 3
   },
   "file_extension": ".py",
   "mimetype": "text/x-python",
   "name": "python",
   "nbconvert_exporter": "python",
   "pygments_lexer": "ipython3",
   "version": "3.9.12"
  }
 },
 "nbformat": 4,
 "nbformat_minor": 5
}
